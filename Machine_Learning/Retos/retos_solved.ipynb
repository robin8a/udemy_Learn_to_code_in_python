{
 "metadata": {
  "language_info": {
   "codemirror_mode": {
    "name": "ipython",
    "version": 3
   },
   "file_extension": ".py",
   "mimetype": "text/x-python",
   "name": "python",
   "nbconvert_exporter": "python",
   "pygments_lexer": "ipython3",
   "version": "3.8.1"
  },
  "orig_nbformat": 4,
  "kernelspec": {
   "name": "python3",
   "display_name": "Python 3.8.1 64-bit"
  },
  "interpreter": {
   "hash": "aee8b7b246df8f9039afb4144a1f6fd8d2ca17a180786b69acc140d282b71a49"
  }
 },
 "nbformat": 4,
 "nbformat_minor": 2,
 "cells": [
  {
   "cell_type": "code",
   "execution_count": 20,
   "metadata": {},
   "outputs": [
    {
     "output_type": "stream",
     "name": "stdout",
     "text": [
      "### Calculadora de nomina ###\n",
      "parametros_de_nomina:  2355255 2 1\n",
      "p_arreglo_parametros:  ['2355255', '2', '1']\n",
      "porcentaje_horas_extras:  1.25\n",
      "porcentaje_bonificacion:  0.065\n",
      "total_horas_extras:  14204.545454545456\n",
      "total_bonificaciones:  153091.575\n",
      "salario_total_antes_de_descuentos:  2522551.1\n",
      "############## \n",
      "total_porcentajes_parafiscales:  0.1\n",
      "salario_total_con_descuentos:  2295521.5\n"
     ]
    }
   ],
   "source": [
    "print (\"### Calculadora de nomina ###\")\n",
    "\n",
    "parametros_de_nomina = str ( input (\"ingrese los parametros de nomina separado por espacio \") )\n",
    "print('parametros_de_nomina: ', parametros_de_nomina)\n",
    "p_arreglo_parametros = parametros_de_nomina.split()\n",
    "print('p_arreglo_parametros: ', p_arreglo_parametros)\n",
    "\n",
    "# Parametros\n",
    "p_salario_base_del_empleado = float (p_arreglo_parametros[0])\n",
    "p_numero_de_horas_extras_durante_el_mes = float (p_arreglo_parametros[1])\n",
    "p_hubo_bonificaciones = float (p_arreglo_parametros[2])\n",
    "\n",
    "# Variables globales\n",
    "hora_de_trabajo_normal = salario_base_del_empleado/176\n",
    "porcentaje_horas_extras = 1 + (25/100)\n",
    "porcentaje_bonificacion = (6.5/100)\n",
    "porcentaje_plan_obligatorio_de_salud = (2.5/100)\n",
    "porcentaje_aporte_a_pension = (2.5/100)\n",
    "porcentaje_caja_de_compensación = (4/100)\n",
    "total_porcentajes_parafiscales = porcentaje_plan_obligatorio_de_salud + porcentaje_aporte_a_pension + porcentaje_caja_de_compensación\n",
    "\n",
    "total_horas_extras = (hora_de_trabajo_normal*p_numero_de_horas_extras_durante_el_mes)*porcentaje_horas_extras\n",
    "total_bonificaciones = 0\n",
    "\n",
    "if (p_hubo_bonificaciones == 1):\n",
    "    total_bonificaciones = p_salario_base_del_empleado*porcentaje_bonificacion\n",
    "\n",
    "salario_total_antes_de_descuentos = p_salario_base_del_empleado + total_horas_extras + total_bonificaciones\n",
    "salario_total_con_descuentos = salario_total_antes_de_descuentos - (salario_total_antes_de_descuentos*total_porcentajes_parafiscales)\n",
    "\n",
    "print(\"porcentaje_horas_extras: \", porcentaje_horas_extras)\n",
    "print(\"porcentaje_bonificacion: \", porcentaje_bonificacion)\n",
    "print(\"total_horas_extras: \", total_horas_extras)\n",
    "print(\"total_bonificaciones: \", total_bonificaciones)\n",
    "print(\"salario_total_antes_de_descuentos: \", round(salario_total_antes_de_descuentos,1))\n",
    "print(\"############## \")\n",
    "print(\"total_porcentajes_parafiscales: \", round(total_porcentajes_parafiscales,1))\n",
    "print(\"salario_total_con_descuentos: \", round(salario_total_con_descuentos,1))\n",
    "\n"
   ]
  },
  {
   "cell_type": "code",
   "execution_count": 39,
   "metadata": {},
   "outputs": [
    {
     "output_type": "stream",
     "name": "stdout",
     "text": [
      "### Velocidad ###\n",
      "parametros_de_velocidad:  12000 100 359\n",
      "p_arreglo_parametros:  ['12000', '100', '359']\n",
      "VELOCIDAD_NORMAL_METROS_x_SEGUNDO 33.42618384401114\n",
      "VELOCIDAD_NORMAL_Km_x_HORA 120.33426183844011\n",
      "NUEVO RECORD\n",
      "diferencia_velocidad_absoluto 20.334261838440113\n",
      "porcentaje_diferencia 20.334261838440113 %\n",
      "ENTREVISTA\n"
     ]
    }
   ],
   "source": [
    "print (\"### Velocidad ###\")\n",
    "\n",
    "parametros_de_velocidad = str ( input (\"ingrese los parametros para el calculo de velocidad separado por espacio \") )\n",
    "print('parametros_de_velocidad: ', parametros_de_velocidad)\n",
    "p_arreglo_parametros = parametros_de_velocidad.split()\n",
    "print('p_arreglo_parametros: ', p_arreglo_parametros)\n",
    "\n",
    "\n",
    "p_distancia_en_metros_que_separa_dos_camaras = float (p_arreglo_parametros[0])\n",
    "p_record_actual_de_velocidad_para_ese_trayecto_en_Km_x_Hora = float (p_arreglo_parametros[1])\n",
    "p_tiempo_en_segundos_que_tarda_el_piloto_en_recorrer_el_trayecto = float (p_arreglo_parametros[2])\n",
    "\n",
    "VELOCIDAD_NORMAL = 0\n",
    "VELOCIDAD_NORMAL_Km_x_HORA = 0\n",
    "\n",
    "if (p_distancia_en_metros_que_separa_dos_camaras <= 0.0 or p_record_actual_de_velocidad_para_ese_trayecto_en_Km_x_Hora <= 0.0 or p_tiempo_en_segundos_que_tarda_el_piloto_en_recorrer_el_trayecto <= 0.0):\n",
    "    print ('ERROR')\n",
    "else:\n",
    "    # v = espacio/tiempo\n",
    "    VELOCIDAD_NORMAL_METROS_x_SEGUNDO = (p_distancia_en_metros_que_separa_dos_camaras/p_tiempo_en_segundos_que_tarda_el_piloto_en_recorrer_el_trayecto)\n",
    "    print ('VELOCIDAD_NORMAL_METROS_x_SEGUNDO', VELOCIDAD_NORMAL_METROS_x_SEGUNDO)\n",
    "    VELOCIDAD_NORMAL_Km_x_HORA = VELOCIDAD_NORMAL_METROS_x_SEGUNDO*3.6\n",
    "    print ('VELOCIDAD_NORMAL_Km_x_HORA', VELOCIDAD_NORMAL_Km_x_HORA)\n",
    "    if (VELOCIDAD_NORMAL_Km_x_HORA > p_record_actual_de_velocidad_para_ese_trayecto_en_Km_x_Hora):\n",
    "        print ('NUEVO RECORD')\n",
    "        diferencia_velocidad_absoluto = abs (p_record_actual_de_velocidad_para_ese_trayecto_en_Km_x_Hora - VELOCIDAD_NORMAL_Km_x_HORA)\n",
    "        porcentaje_diferencia = diferencia_velocidad_absoluto/p_record_actual_de_velocidad_para_ese_trayecto_en_Km_x_Hora\n",
    "        print ('diferencia_velocidad_absoluto', diferencia_velocidad_absoluto)\n",
    "        print ('porcentaje_diferencia', porcentaje_diferencia*100, '%')\n",
    "        if (porcentaje_diferencia*100 >= 20):\n",
    "            print ('ENTREVISTA')\n",
    "\n",
    "    "
   ]
  },
  {
   "cell_type": "code",
   "execution_count": 45,
   "metadata": {},
   "outputs": [
    {
     "output_type": "stream",
     "name": "stdout",
     "text": [
      "### Presupuesto Sede Mundial ###\n",
      "parametros_de_velocidad:  12 35000 700 3 110\n",
      "p_arreglo_parametros:  ['12', '35000', '700', '3', '110']\n",
      "12.0 35000.0 3.0 110.0\n",
      "DISPONIBLE\n",
      "parametros_de_velocidad:  12 25000 1900 1 110\n",
      "p_arreglo_parametros:  ['12', '25000', '1900', '1', '110']\n",
      "12.0 35000.0 3.0 110.0\n",
      "DISPONIBLE\n",
      "12.0 25000.0 1.0 110.0\n",
      "NO DISPONIBLE\n",
      "parametros_de_velocidad:  12 30000 1700 3 80\n",
      "p_arreglo_parametros:  ['12', '30000', '1700', '3', '80']\n",
      "12.0 35000.0 3.0 110.0\n",
      "DISPONIBLE\n",
      "12.0 25000.0 1.0 110.0\n",
      "NO DISPONIBLE\n",
      "12.0 30000.0 3.0 80.0\n",
      "NO DISPONIBLE\n"
     ]
    }
   ],
   "source": [
    "print (\"### Presupuesto Sede Mundial ###\")\n",
    "\n",
    "class sedes: \n",
    "    def __init__(self, numero_de_estadios_aprobados_por_la_FIFA, capacidad_estadio, altura_estadio, numero_de_titulos_internacionales, capital_dispuesto_a_invertir): \n",
    "        self.numero_de_estadios_aprobados_por_la_FIFA = numero_de_estadios_aprobados_por_la_FIFA \n",
    "        self.capacidad_estadio = capacidad_estadio\n",
    "        self.altura_estadio = altura_estadio\n",
    "        self.numero_de_titulos_internacionales = numero_de_titulos_internacionales\n",
    "        self.capital_dispuesto_a_invertir = capital_dispuesto_a_invertir\n",
    "\n",
    "parametro_numero_de_sedes = int ( input (\"ingrese el numero de sedes \") )\n",
    "# Lista de sedes\n",
    "list_sedes = []\n",
    "while True:\n",
    "    if (len(list_sedes) == parametro_numero_de_sedes):\n",
    "        break\n",
    "    else:\n",
    "        parametros_de_la_sede = str ( input (\"ingrese los parametros de la sede separado por espacio \") )\n",
    "        print('parametros_de_velocidad: ', parametros_de_la_sede)\n",
    "        p_arreglo_parametros = parametros_de_la_sede.split()\n",
    "        print('p_arreglo_parametros: ', p_arreglo_parametros)\n",
    "\n",
    "        p_numero_de_estadios_aprobados_por_la_FIFA = float (p_arreglo_parametros[0])\n",
    "        p_capacidad_estadio = float (p_arreglo_parametros[1])\n",
    "        p_altura_estadio = float (p_arreglo_parametros[2])\n",
    "        p_numero_de_titulos_internacionales = float (p_arreglo_parametros[3])\n",
    "        p_capital_dispuesto_a_invertir = float (p_arreglo_parametros[4])\n",
    "        list_sedes.append( sedes(p_numero_de_estadios_aprobados_por_la_FIFA, p_capacidad_estadio, p_altura_estadio, p_numero_de_titulos_internacionales, p_capital_dispuesto_a_invertir) )\n",
    "    \n",
    "    for obj in list_sedes:\n",
    "        print( obj.numero_de_estadios_aprobados_por_la_FIFA, obj.capacidad_estadio, obj.numero_de_titulos_internacionales, obj.capital_dispuesto_a_invertir, sep =' ' )\n",
    "        if (obj.numero_de_estadios_aprobados_por_la_FIFA >= 12 and obj.capacidad_estadio >= 35000 and obj.altura_estadio <= 1500 and obj.numero_de_titulos_internacionales >=3): \n",
    "            print ('DISPONIBLE')\n",
    "        else:\n",
    "            print (\"NO DISPONIBLE\")\n"
   ]
  },
  {
   "cell_type": "code",
   "execution_count": null,
   "metadata": {},
   "outputs": [],
   "source": []
  }
 ]
}