{
 "metadata": {
  "language_info": {
   "codemirror_mode": {
    "name": "ipython",
    "version": 3
   },
   "file_extension": ".py",
   "mimetype": "text/x-python",
   "name": "python",
   "nbconvert_exporter": "python",
   "pygments_lexer": "ipython3",
   "version": "3.8.1"
  },
  "orig_nbformat": 4,
  "kernelspec": {
   "name": "python3",
   "display_name": "Python 3.8.1 64-bit"
  },
  "interpreter": {
   "hash": "aee8b7b246df8f9039afb4144a1f6fd8d2ca17a180786b69acc140d282b71a49"
  }
 },
 "nbformat": 4,
 "nbformat_minor": 2,
 "cells": [
  {
   "cell_type": "code",
   "execution_count": 20,
   "metadata": {},
   "outputs": [
    {
     "output_type": "stream",
     "name": "stdout",
     "text": [
      "### Calculadora de nomina ###\n",
      "parametros_de_nomina:  2355255 2 1\n",
      "p_arreglo_parametros:  ['2355255', '2', '1']\n",
      "porcentaje_horas_extras:  1.25\n",
      "porcentaje_bonificacion:  0.065\n",
      "total_horas_extras:  14204.545454545456\n",
      "total_bonificaciones:  153091.575\n",
      "salario_total_antes_de_descuentos:  2522551.1\n",
      "############## \n",
      "total_porcentajes_parafiscales:  0.1\n",
      "salario_total_con_descuentos:  2295521.5\n"
     ]
    }
   ],
   "source": [
    "print (\"### Calculadora de nomina ###\")\n",
    "\n",
    "parametros_de_nomina = str ( input (\"ingrese los parametros de nomina separado por espacio \") )\n",
    "print('parametros_de_nomina: ', parametros_de_nomina)\n",
    "p_arreglo_parametros = parametros_de_nomina.split()\n",
    "print('p_arreglo_parametros: ', p_arreglo_parametros)\n",
    "\n",
    "# Parametros\n",
    "p_salario_base_del_empleado = float (p_arreglo_parametros[0])\n",
    "p_numero_de_horas_extras_durante_el_mes = float (p_arreglo_parametros[1])\n",
    "p_hubo_bonificaciones = float (p_arreglo_parametros[2])\n",
    "\n",
    "# Variables globales\n",
    "hora_de_trabajo_normal = salario_base_del_empleado/176\n",
    "porcentaje_horas_extras = 1 + (25/100)\n",
    "porcentaje_bonificacion = (6.5/100)\n",
    "porcentaje_plan_obligatorio_de_salud = (2.5/100)\n",
    "porcentaje_aporte_a_pension = (2.5/100)\n",
    "porcentaje_caja_de_compensación = (4/100)\n",
    "total_porcentajes_parafiscales = porcentaje_plan_obligatorio_de_salud + porcentaje_aporte_a_pension + porcentaje_caja_de_compensación\n",
    "\n",
    "total_horas_extras = (hora_de_trabajo_normal*p_numero_de_horas_extras_durante_el_mes)*porcentaje_horas_extras\n",
    "total_bonificaciones = 0\n",
    "\n",
    "if (p_hubo_bonificaciones == 1):\n",
    "    total_bonificaciones = p_salario_base_del_empleado*porcentaje_bonificacion\n",
    "\n",
    "salario_total_antes_de_descuentos = p_salario_base_del_empleado + total_horas_extras + total_bonificaciones\n",
    "salario_total_con_descuentos = salario_total_antes_de_descuentos - (salario_total_antes_de_descuentos*total_porcentajes_parafiscales)\n",
    "\n",
    "print(\"porcentaje_horas_extras: \", porcentaje_horas_extras)\n",
    "print(\"porcentaje_bonificacion: \", porcentaje_bonificacion)\n",
    "print(\"total_horas_extras: \", total_horas_extras)\n",
    "print(\"total_bonificaciones: \", total_bonificaciones)\n",
    "print(\"salario_total_antes_de_descuentos: \", round(salario_total_antes_de_descuentos,1))\n",
    "print(\"############## \")\n",
    "print(\"total_porcentajes_parafiscales: \", round(total_porcentajes_parafiscales,1))\n",
    "print(\"salario_total_con_descuentos: \", round(salario_total_con_descuentos,1))\n",
    "\n"
   ]
  },
  {
   "cell_type": "code",
   "execution_count": null,
   "metadata": {},
   "outputs": [],
   "source": []
  }
 ]
}